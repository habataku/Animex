{
  "cells": [
    {
      "cell_type": "markdown",
      "metadata": {
        "id": "view-in-github",
        "colab_type": "text"
      },
      "source": [
        "<a href=\"https://colab.research.google.com/github/habataku/Animex/blob/master/Studyplus%E3%81%84%E3%81%84%E3%81%AD%E7%89%B9%E5%8C%96.ipynb\" target=\"_parent\"><img src=\"https://colab.research.google.com/assets/colab-badge.svg\" alt=\"Open In Colab\"/></a>"
      ]
    },
    {
      "cell_type": "markdown",
      "metadata": {
        "id": "pY3o8GGSgCh-"
      },
      "source": [
        "# 最初に実行"
      ]
    },
    {
      "cell_type": "code",
      "execution_count": 13,
      "metadata": {
        "id": "_EPJJ3Uj0Wzf"
      },
      "outputs": [],
      "source": [
        "#@title クラス定義 最初に実行 {display-mode:\"form\"}\n",
        "import requests\n",
        "import json\n",
        "import re\n",
        "import datetime\n",
        "import pprint\n",
        "from IPython.display import display,Markdown\n",
        "\n",
        "class IStudyPlusUser:\n",
        "  def __init__(self,json):\n",
        "    self.data=json\n",
        "\n",
        "  def followee(self):\n",
        "    json=requests.get(\"https://api.studyplus.jp/2/users?followee=\"+self.data[\"username\"]+\"&page=1&per_page=100&include_recent_record_seconds=t\").json()\n",
        "    followees=json[\"users\"]\n",
        "    if json[\"page\"]<json[\"total_page\"]:\n",
        "      for i in range(2,json[\"total_page\"]+1):\n",
        "        followees += requests.get(\"https://api.studyplus.jp/2/users?followee=\"+self.data[\"username\"]+\"&page=\"+str(i)+\"&per_page=100&include_recent_record_seconds=t\").json()[\"users\"]\n",
        "    return followees\n",
        "  \n",
        "  def follower(self):\n",
        "    json=requests.get(\"https://api.studyplus.jp/2/users?follower=\"+self.data[\"username\"]+\"&page=1&per_page=100&include_recent_record_seconds=t\").json()\n",
        "    followers=json[\"users\"]\n",
        "    if json[\"page\"]<json[\"total_page\"]:\n",
        "      for i in range(2,json[\"total_page\"]+1):\n",
        "        followers += requests.get(\"https://api.studyplus.jp/2/users?follower=\"+self.data[\"username\"]+\"&page=\"+str(i)+\"&per_page=100&include_recent_record_seconds=t\").json()[\"users\"]\n",
        "    return followers\n",
        "\n",
        "class IStudyPlus:\n",
        "  def __init__(self):\n",
        "    self.api_root=\"https://api.studyplus.jp/2\"\n",
        "    result=requests.get(\"https://www.studyplus.jp/\")\n",
        "    self.web_session=result.cookies.get(\"_studyplus-web_session\")\n",
        "    self.cookies={\"_studyplus-web_session\":self.web_session,\"AMP_TOKEN\":\"%24NOT_FOUND\"}\n",
        "    self.csrf_token=re.search(r'<meta name=\"csrf-token\" content=\"(.{88})\"',result.text).group(1)\n",
        "    self.headers = {\n",
        "            'authority': 'www.studyplus.jp',\n",
        "            'accept': 'application/json, text/html, */*',\n",
        "            'accept-language': 'ja,en-US;q=0.9,en;q=0.8',\n",
        "            'cache': 'no-cache',\n",
        "            'content-type': 'application/json',\n",
        "            'origin': 'https://www.studyplus.jp',\n",
        "            'referer': 'https://www.studyplus.jp',\n",
        "            'sec-ch-ua': '\"Google Chrome\";v=\"111\", \"Not(A:Brand\";v=\"8\", \"Chromium\";v=\"111\"',\n",
        "            'sec-ch-mobile': '?0',\n",
        "            'sec-ch-ua-platform': '\"Windows\"',\n",
        "            'sec-fetch-dest': 'empty',\n",
        "            'sec-fetch-mode': 'cors',\n",
        "            'sec-fetch-site': 'same-origin',\n",
        "            'user-agent': 'Mozilla/5.0 (iPad; CPU OS 13_3 like Mac OS X) AppleWebKit/605.1.15 (KHTML, like Gecko) CriOS/87.0.4280.77 Mobile/15E148 Safari/604.1 Edg/112.0.0.0',\n",
        "            'x-csrf-token': self.csrf_token\n",
        "    }\n",
        "\n",
        "  def login(self,username,password,remember_me=False):\n",
        "    data={\"username\":username,\"password\":password,\"remenber_me\":remember_me}\n",
        "    result=requests.post(\"https://www.studyplus.jp/api/auth\",data=json.dumps(data),cookies=self.cookies,headers=self.headers)\n",
        "    self.web_session=result.cookies.get(\"_studyplus-web_session\")\n",
        "    self.auth=result.cookies.get('auth')\n",
        "    self.cookies={\"_studyplus-web_session\":self.web_session,\"auth\":self.auth,\"AMP_TOKEN\":\"%24NOT_FOUND\"}\n",
        "    self.username=re.search('username%22%3A%22(.*)%22%2C%22',self.auth).group(1)\n",
        "    self.access_token=re.search('access_token%22%3A%22(.*)%22%7D',self.auth).group(1)\n",
        "    self.headers[\"Authorization\"]=\"OAuth \"+self.access_token\n",
        "    return self\n",
        "\n",
        "  def __del__(self):\n",
        "    if self.username:\n",
        "      requests.post('https://www.studyplus.jp/auth',data=\"_method=delete&authenticity_token=\"+self.csrf_token,headers={\n",
        "              'authority': 'www.studyplus.jp',\n",
        "              \"accept\": \"text/html,application/xhtml+xml,application/xml;q=0.9,image/avif,image/webp,image/apng,*/*;q=0.8,application/signed-exchange;v=b3;q=0.7\",\n",
        "              \"accept-language\": \"ja,en-US;q=0.9,en;q=0.8\",\n",
        "              \"cache-control\": \"max-age=0\",\n",
        "              \"content-type\": \"application/x-www-form-urlencoded\",\n",
        "              \"sec-ch-ua\": \"\\\"Google Chrome\\\";v=\\\"113\\\", \\\"Chromium\\\";v=\\\"113\\\", \\\"Not-A.Brand\\\";v=\\\"24\\\"\",\n",
        "              \"sec-ch-ua-mobile\": \"?0\",\n",
        "              \"sec-ch-ua-platform\": \"\\\"Windows\\\"\",\n",
        "              \"sec-fetch-dest\": \"document\",\n",
        "              \"sec-fetch-mode\": \"navigate\",\n",
        "              \"sec-fetch-site\": \"same-origin\",\n",
        "              \"sec-fetch-user\": \"?1\",\n",
        "              \"upgrade-insecure-requests\": \"1\",\n",
        "      })\n",
        "\n",
        "  def me(self):\n",
        "    if not self.username:\n",
        "      return\n",
        "    result=requests.get(self.api_root+\"/users/\"+self.username,cookies=self.cookies,headers=self.headers)\n",
        "    self.web_session=result.cookies.get(\"_studyplus-web_session\")\n",
        "    self.cookies={\"_studyplus-web_session\":self.web_session,\"auth\":self.auth,\"AMP_TOKEN\":\"%24NOT_FOUND\"}\n",
        "    return IStudyPlusUser(result.json())"
      ]
    },
    {
      "cell_type": "code",
      "execution_count": 14,
      "metadata": {
        "id": "DpsBABmQ9KFT"
      },
      "outputs": [],
      "source": [
        "#@title ログイン {display-mode:\"form\"}\n",
        "メールアドレス=\"habatakutori.fbi@gmail.com\"#@param {type:\"string\"}\n",
        "パスワード=\"ctuisipnNian0972\"#@param {type:\"string\"}\n",
        "sp=IStudyPlus().login(メールアドレス,パスワード)\n",
        "me=sp.me()"
      ]
    },
    {
      "cell_type": "markdown",
      "metadata": {
        "id": "1v4FFwjifv_9"
      },
      "source": [
        "# **自動いいね**"
      ]
    },
    {
      "cell_type": "code",
      "execution_count": null,
      "metadata": {
        "id": "3IvAk_RuY_1i"
      },
      "outputs": [],
      "source": [
        "# @title 自分のタイムラインに指定した個数いいね {display-mode:\"form\"}\n",
        "種類=\"\\u5B9A\\u671F\\u30C6\\u30B9\\u30C8 \\u6210\\u7E3E\\u30A2\\u30C3\\u30D7\"#@param [\"フォロー中\",\"定期テスト 成績アップ\"]\n",
        "if 種類==\"フォロー中\":\n",
        "  timeline_url=\"followee\"\n",
        "elif 種類==\"定期テスト 成績アップ\":\n",
        "  timeline_url=\"study_goal/test\"\n",
        "json=requests.get(\"https://api.studyplus.jp/2/timeline_feeds/\"+timeline_url,cookies=sp.cookies,headers=sp.headers).json()\n",
        "個数_30個単位=300#@param {type:\"number\"}\n",
        "\n",
        "for i in range(0,個数_30個単位//30):\n",
        "  for record in json[\"feeds\"]:\n",
        "    try:\n",
        "      record.pop(\"feed_type\")\n",
        "      requests.post(\"https://api.studyplus.jp/2/timeline_events/\"+str(list(record.values())[0][\"event_id\"])+\"/likes/like\",cookies=sp.cookies,headers=sp.headers).json()\n",
        "    except:\n",
        "      continue\n",
        "  json=requests.get(\"https://api.studyplus.jp/2/timeline_feeds/\"+timeline_url+\"?until=\"+json[\"next\"],cookies=sp.cookies,headers=sp.headers).json()"
      ]
    },
    {
      "cell_type": "code",
      "execution_count": null,
      "metadata": {
        "colab": {
          "background_save": true
        },
        "id": "L1-KCYtlmGqs"
      },
      "outputs": [],
      "source": [
        "#@title 達成目標idから指定した個数いいね {display-mode:\"form\"}\n",
        "達成目標id=\"college-578\"# @param {type:\"string\"}\n",
        "json=requests.get(\"https://api.studyplus.jp/2/timeline_feeds/study_goal/\"+達成目標id,cookies=sp.cookies,headers=sp.headers).json()\n",
        "個数_30個単位=300#@param {type:\"number\"}\n",
        "\n",
        "for i in range(0,個数_30個単位//30):\n",
        "  for record in json[\"feeds\"]:\n",
        "    try:\n",
        "      record.pop(\"feed_type\")\n",
        "      requests.post(\"https://api.studyplus.jp/2/timeline_events/\"+str(list(record.values())[0][\"event_id\"])+\"/likes/like\",cookies=sp.cookies,headers=sp.headers).json()\n",
        "    except:\n",
        "      continue\n",
        "  json=requests.get(\"https://api.studyplus.jp/2/timeline_feeds/study_goal/\"+達成目標id+\"?until=\"+json[\"next\"],cookies=sp.cookies,headers=sp.headers).json()"
      ]
    },
    {
      "cell_type": "code",
      "execution_count": null,
      "metadata": {
        "colab": {
          "base_uri": "https://localhost:8080/",
          "height": 297
        },
        "id": "L-jjFMAQfO6U",
        "outputId": "6bb463ce-8e45-4d07-f391-be17ba349c5e"
      },
      "outputs": [
        {
          "data": {
            "text/markdown": "|達成目標|id|\n|--|--|\n|英検 準1級|english-eiken-jun1|\n|広島大学|college-653|\n|大阪大学|college-524|\n|京都大学|college-491|\n|神戸大学|college-578|\n|千葉大学|college-147|\n|名古屋大学|college-428|\n|北海道大学|college-5|\n",
            "text/plain": [
              "<IPython.core.display.Markdown object>"
            ]
          },
          "metadata": {},
          "output_type": "display_data"
        }
      ],
      "source": [
        "#@title 自分の達成目標id一覧取得 {display-mode:\"form\"}\n",
        "md=\"|達成目標|id|\\n|--|--|\\n\"\n",
        "for val in me.data['study_goals']:\n",
        "  md+=f\"|{val['label']}|{val['key']}|\\n\"\n",
        "display(Markdown(md))"
      ]
    },
    {
      "cell_type": "code",
      "execution_count": null,
      "metadata": {
        "cellView": "form",
        "id": "MiAPiau6bPNa"
      },
      "outputs": [],
      "source": [
        "# @title 人を検索して全いいね\n",
        "検索元=\"フォロワー\"#@param [\"フォロワー\",\"フォロー中\",\"id指定\"]\n",
        "名前またはid=\"1234567890\"#@param {type:\"string\"}\n",
        "\n",
        "if 検索元==\"フォロワー\":\n",
        "  user=next(filter(lambda x:x[\"nickname\"]==名前またはid or x[\"username\"]==名前またはid,me.follower()),None)\n",
        "  json=requests.get(\"https://api.studyplus.jp/2/timeline_feeds/user/\"+user[\"username\"],cookies=sp.cookies,headers=sp.headers).json()\n",
        "elif 検索元==\"フォロー中\":\n",
        "  user=next(filter(lambda x:x[\"nickname\"]==名前またはid or x[\"username\"]==名前またはid,me.followee()),None)\n",
        "  json=requests.get(\"https://api.studyplus.jp/2/timeline_feeds/user/\"+user[\"username\"],cookies=sp.cookies,headers=sp.headers).json()\n",
        "else:\n",
        "  json=requests.get(\"https://api.studyplus.jp/2/timeline_feeds/user/\"+名前またはid,cookies=sp.cookies,headers=sp.headers).json()\n",
        "\n",
        "for i in range(0,2000):\n",
        "  count=0\n",
        "  for record in json[\"feeds\"]:\n",
        "    try:\n",
        "      record.pop(\"feed_type\")\n",
        "      body=list(record.values())[0]\n",
        "      if body[\"if_you_like\"]:\n",
        "        count+=1\n",
        "        continue\n",
        "      requests.post(\"https://api.studyplus.jp/2/timeline_events/\"+str(body[\"event_id\"])+\"/likes/like\",cookies=sp.cookies,headers=sp.headers).json()\n",
        "    except:\n",
        "      continue\n",
        "  if count==len(json[\"feeds\"]) and i>100:\n",
        "    break\n",
        "  json=requests.get(\"https://api.studyplus.jp/2/timeline_feeds/user/\"+user[\"username\"]+\"?until=\"+json[\"next\"],cookies=sp.cookies,headers=sp.headers).json()"
      ]
    },
    {
      "cell_type": "markdown",
      "metadata": {
        "id": "Eo1wdv6RgGU9"
      },
      "source": [
        "# **ユーザー情報**"
      ]
    },
    {
      "cell_type": "code",
      "execution_count": null,
      "metadata": {
        "id": "7b-vgMLCDKkB"
      },
      "outputs": [],
      "source": [
        "#@title 自分のフォロワー/フォロー中一覧 {display-mode:\"form\"}\n",
        "モード=\"\\u30D5\\u30A9\\u30ED\\u30FC\\u4E2D\"#@param [\"フォロワー\",\"フォロー中\"]\n",
        "if モード==\"フォロワー\":\n",
        "  userlist=me.follower()\n",
        "elif モード==\"フォロー中\":\n",
        "  userlist=me.followee()\n",
        "\n",
        "md=\"|名前|id|\\n|--|--|\\n\"\n",
        "for val in userlist:\n",
        "  md+=f\"|{val['nickname']}|{val['username']}|\\n\"\n",
        "display(Markdown(md))"
      ]
    },
    {
      "cell_type": "code",
      "execution_count": null,
      "metadata": {
        "id": "4Rqs-EX8_ByX"
      },
      "outputs": [],
      "source": [
        "#@title 知り合いの知り合い一覧 {display-mode:\"form\"}\n",
        "取得する人=\"\\u30D5\\u30A9\\u30ED\\u30EF\\u30FC\"#@param [\"フォロワー\",\"フォロー中\"]\n",
        "ユーザー名=\"shu\"#@param {type:\"string\"}\n",
        "モード=\"\\u30D5\\u30A9\\u30ED\\u30EF\\u30FC\"#@param [\"フォロワー\",\"フォロー中\"]\n",
        "\n",
        "if 取得する人==\"フォロワー\":\n",
        "  user=next(filter(lambda x:x[\"nickname\"]==ユーザー名,me.follower()),None)\n",
        "elif 取得する人==\"フォロー中\":\n",
        "  user=next(filter(lambda x:x[\"nickname\"]==ユーザー名,me.followee()),None)\n",
        "print(f'{取得する人}の{ユーザー名} さんの{モード}一覧:')\n",
        "if モード==\"フォロワー\":\n",
        "  userlist=IStudyPlusUser(user).follower()\n",
        "elif モード==\"フォロー中\":\n",
        "  userlist=IStudyPlusUser(user).followee()\n",
        "\n",
        "md=\"|名前|id|\\n|--|--|\\n\"\n",
        "for val in userlist:\n",
        "  md+=f\"|{val['nickname']}|{val['username']}|\\n\"\n",
        "display(Markdown(md))"
      ]
    },
    {
      "cell_type": "code",
      "execution_count": null,
      "metadata": {
        "id": "Y64cCatqDY5Q"
      },
      "outputs": [],
      "source": [
        "#@title ユーザーidから情報を取得 {display-mode:\"form\"}\n",
        "username=\"97a7afe10247462a99d6e858ede46674\"#@param {type:\"string\"}\n",
        "user=IStudyPlusUser(requests.get(\"https://api.studyplus.jp/2/users/\"+username).json())\n",
        "print(user.data[\"nickname\"]+\"さんの情報:\")\n",
        "pprint.pprint(user.data)"
      ]
    },
    {
      "cell_type": "code",
      "execution_count": null,
      "metadata": {
        "cellView": "form",
        "id": "_u0pcI7cCaIn"
      },
      "outputs": [],
      "source": [
        "# @title 没\n",
        "# import requests\n",
        "# from dataclasses import dataclass,fields\n",
        "# from typing import Optional\n",
        "\n",
        "# @dataclass\n",
        "# class IStudyPlusUserProfile:\n",
        "#   user_id: int\n",
        "#   username: str\n",
        "#   user_image_url: str\n",
        "#   nickname: str\n",
        "#   badge_type: str\n",
        "#   user_organizations: list\n",
        "#   disable_reply: bool\n",
        "#   allow_send_image_message: bool\n",
        "#   disable_profile_view: bool\n",
        "#   goal: str\n",
        "#   user_relationship_id: int\n",
        "#   user_relationship_status: str\n",
        "#   target_user_relationship_id: int\n",
        "#   target_user_relationship_status: str\n",
        "#   location_code: int\n",
        "#   location: str\n",
        "#   job_code: int\n",
        "#   job: str\n",
        "#   job_grade: int\n",
        "#   follower_policy: str\n",
        "#   feed_visibility: str\n",
        "#   desired_departments: list\n",
        "#   mute: bool\n",
        "#   fav: bool\n",
        "#   feed_is_visible: bool\n",
        "#   study_goals: list\n",
        "\n",
        "#   def followee(self):\n",
        "#     json=requests.get(\"https://api.studyplus.jp/2/users?followee=\"+self.username+\"&page=1&per_page=100&include_recent_record_seconds=t\").json()\n",
        "#     followees=json[\"users\"]\n",
        "#     if json[\"page\"]<json[\"total_page\"]:\n",
        "#       for i in range(2,json[\"total_page\"]+1):\n",
        "#         followees |= requests.get(self.api_root+\"/users?followee=\"+self.username+\"&page=\"+i+\"&per_page=100&include_recent_record_seconds=t\").json()\n",
        "#     followeeprofiles=[]\n",
        "#     print(followees)\n",
        "#     for follower in followees:\n",
        "#       for field in fields(IStudyPlusRelateUser):\n",
        "#         if field.name not in follower:\n",
        "#           follower[field.name]=\"\"\n",
        "#       followeeprofiles.append(IStudyPlusRelateUser(**follower))\n",
        "#     return followeeprofiles\n",
        "\n",
        "# @dataclass\n",
        "# class IStudyPlusUser(IStudyPlusUserProfile):\n",
        "#   follow_count: int\n",
        "#   follower_count: int\n",
        "#   follow_requesting_count: int\n",
        "#   biography: str\n",
        "#   tags: list\n",
        "#   educational_background: dict\n",
        "#   material_count: int\n",
        "#   premium: bool\n",
        "#   book_user: bool\n",
        "#   use_drill: bool\n",
        "#   studyplus_confirmed: bool\n",
        "#   studylog_confirmed: bool\n",
        "#   record_count: int\n",
        "#   record_hours_this_month: int\n",
        "#   record_hours_last_month: int\n",
        "#   total_record_hours: int\n",
        "#   has_study_challenge: bool\n",
        "#   sex: str\n",
        "#   birthyear: int\n",
        "#   birthmonth: int\n",
        "#   birthdate: int\n",
        "#   occupation: str\n",
        "#   study_achievements: list\n",
        "#   examination_count: int\n",
        "#   email_is_confirmed: bool\n",
        "#   learning_material_review_count: int\n",
        "#   learning_material_review_like_count: int\n",
        "#   desired_department_visibility: str\n",
        "#   sex_visibility: str\n",
        "#   birthyear_visibility: str\n",
        "#   birthdate_visibility: str\n",
        "#   location_visibility: str\n",
        "#   job_visibility: str\n",
        "#   occupation_visibility: str\n",
        "#   study_goals_visibility: str\n",
        "#   limited_message: bool\n",
        "\n",
        "# @dataclass\n",
        "# class IStudyPlusRelateUser(IStudyPlusUserProfile):\n",
        "#   recent_record_seconds:int\n"
      ]
    }
  ],
  "metadata": {
    "colab": {
      "provenance": [],
      "toc_visible": true,
      "include_colab_link": true
    },
    "kernelspec": {
      "display_name": "Python 3",
      "name": "python3"
    },
    "language_info": {
      "name": "python"
    }
  },
  "nbformat": 4,
  "nbformat_minor": 0
}