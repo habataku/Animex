{
  "cells": [
    {
      "cell_type": "markdown",
      "metadata": {
        "id": "view-in-github",
        "colab_type": "text"
      },
      "source": [
        "<a href=\"https://colab.research.google.com/github/habataku/Animex/blob/master/%E5%BF%97%E6%9C%9B%E6%A0%A1%E5%88%86%E9%9B%A2.ipynb\" target=\"_parent\"><img src=\"https://colab.research.google.com/assets/colab-badge.svg\" alt=\"Open In Colab\"/></a>"
      ]
    },
    {
      "cell_type": "markdown",
      "metadata": {
        "id": "pY3o8GGSgCh-"
      },
      "source": [
        "# 最初に実行"
      ]
    },
    {
      "cell_type": "code",
      "execution_count": 9,
      "metadata": {
        "id": "_EPJJ3Uj0Wzf"
      },
      "outputs": [],
      "source": [
        "#@title クラス定義 最初に実行 {display-mode:\"form\"}\n",
        "import requests\n",
        "import json\n",
        "import re\n",
        "import datetime\n",
        "import pprint\n",
        "from IPython.display import display,Markdown\n",
        "\n",
        "class IStudyPlusUser:\n",
        "  def __init__(self,json):\n",
        "    self.data=json\n",
        "\n",
        "  def followee(self):\n",
        "    json=requests.get(\"https://api.studyplus.jp/2/users?followee=\"+self.data[\"username\"]+\"&page=1&per_page=100&include_recent_record_seconds=t\").json()\n",
        "    followees=json[\"users\"]\n",
        "    if json[\"page\"]<json[\"total_page\"]:\n",
        "      for i in range(2,json[\"total_page\"]+1):\n",
        "        followees += requests.get(\"https://api.studyplus.jp/2/users?followee=\"+self.data[\"username\"]+\"&page=\"+str(i)+\"&per_page=100&include_recent_record_seconds=t\").json()[\"users\"]\n",
        "    return followees\n",
        "  \n",
        "  def follower(self):\n",
        "    json=requests.get(\"https://api.studyplus.jp/2/users?follower=\"+self.data[\"username\"]+\"&page=1&per_page=100&include_recent_record_seconds=t\").json()\n",
        "    followers=json[\"users\"]\n",
        "    if json[\"page\"]<json[\"total_page\"]:\n",
        "      for i in range(2,json[\"total_page\"]+1):\n",
        "        followers += requests.get(\"https://api.studyplus.jp/2/users?follower=\"+self.data[\"username\"]+\"&page=\"+str(i)+\"&per_page=100&include_recent_record_seconds=t\").json()[\"users\"]\n",
        "    return followers\n",
        "\n",
        "class IStudyPlus:\n",
        "  def __init__(self):\n",
        "    self.api_root=\"https://api.studyplus.jp/2\"\n",
        "    result=requests.get(\"https://www.studyplus.jp/\")\n",
        "    self.web_session=result.cookies.get(\"_studyplus-web_session\")\n",
        "    self.cookies={\"_studyplus-web_session\":self.web_session,\"AMP_TOKEN\":\"%24NOT_FOUND\"}\n",
        "    self.csrf_token=re.search(r'<meta name=\"csrf-token\" content=\"(.{88})\"',result.text).group(1)\n",
        "    self.headers = {\n",
        "            'authority': 'www.studyplus.jp',\n",
        "            'accept': 'application/json, text/html, */*',\n",
        "            'accept-language': 'ja,en-US;q=0.9,en;q=0.8',\n",
        "            'cache': 'no-cache',\n",
        "            'content-type': 'application/json',\n",
        "            'origin': 'https://www.studyplus.jp',\n",
        "            'referer': 'https://www.studyplus.jp',\n",
        "            'sec-ch-ua': '\"Google Chrome\";v=\"111\", \"Not(A:Brand\";v=\"8\", \"Chromium\";v=\"111\"',\n",
        "            'sec-ch-mobile': '?0',\n",
        "            'sec-ch-ua-platform': '\"Windows\"',\n",
        "            'sec-fetch-dest': 'empty',\n",
        "            'sec-fetch-mode': 'cors',\n",
        "            'sec-fetch-site': 'same-origin',\n",
        "            'user-agent': 'Mozilla/5.0 (iPad; CPU OS 13_3 like Mac OS X) AppleWebKit/605.1.15 (KHTML, like Gecko) CriOS/87.0.4280.77 Mobile/15E148 Safari/604.1 Edg/112.0.0.0',\n",
        "            'x-csrf-token': self.csrf_token\n",
        "    }\n",
        "\n",
        "  def login(self,username,password,remember_me=False):\n",
        "    data={\"username\":username,\"password\":password,\"remenber_me\":remember_me}\n",
        "    result=requests.post(\"https://www.studyplus.jp/api/auth\",data=json.dumps(data),cookies=self.cookies,headers=self.headers)\n",
        "    self.web_session=result.cookies.get(\"_studyplus-web_session\")\n",
        "    self.auth=result.cookies.get('auth')\n",
        "    self.cookies={\"_studyplus-web_session\":self.web_session,\"auth\":self.auth,\"AMP_TOKEN\":\"%24NOT_FOUND\"}\n",
        "    self.username=re.search('username%22%3A%22(.*)%22%2C%22',self.auth).group(1)\n",
        "    self.access_token=re.search('access_token%22%3A%22(.*)%22%7D',self.auth).group(1)\n",
        "    self.headers[\"Authorization\"]=\"OAuth \"+self.access_token\n",
        "    return self\n",
        "\n",
        "  def __del__(self):\n",
        "    if self.username:\n",
        "      requests.post('https://www.studyplus.jp/auth',data=\"_method=delete&authenticity_token=\"+self.csrf_token,headers={\n",
        "              'authority': 'www.studyplus.jp',\n",
        "              \"accept\": \"text/html,application/xhtml+xml,application/xml;q=0.9,image/avif,image/webp,image/apng,*/*;q=0.8,application/signed-exchange;v=b3;q=0.7\",\n",
        "              \"accept-language\": \"ja,en-US;q=0.9,en;q=0.8\",\n",
        "              \"cache-control\": \"max-age=0\",\n",
        "              \"content-type\": \"application/x-www-form-urlencoded\",\n",
        "              \"sec-ch-ua\": \"\\\"Google Chrome\\\";v=\\\"113\\\", \\\"Chromium\\\";v=\\\"113\\\", \\\"Not-A.Brand\\\";v=\\\"24\\\"\",\n",
        "              \"sec-ch-ua-mobile\": \"?0\",\n",
        "              \"sec-ch-ua-platform\": \"\\\"Windows\\\"\",\n",
        "              \"sec-fetch-dest\": \"document\",\n",
        "              \"sec-fetch-mode\": \"navigate\",\n",
        "              \"sec-fetch-site\": \"same-origin\",\n",
        "              \"sec-fetch-user\": \"?1\",\n",
        "              \"upgrade-insecure-requests\": \"1\",\n",
        "      })\n",
        "\n",
        "  def me(self):\n",
        "    if not self.username:\n",
        "      return\n",
        "    result=requests.get(self.api_root+\"/users/\"+self.username,cookies=self.cookies,headers=self.headers)\n",
        "    self.web_session=result.cookies.get(\"_studyplus-web_session\")\n",
        "    self.cookies={\"_studyplus-web_session\":self.web_session,\"auth\":self.auth,\"AMP_TOKEN\":\"%24NOT_FOUND\"}\n",
        "    return IStudyPlusUser(result.json())"
      ]
    },
    {
      "cell_type": "code",
      "execution_count": 10,
      "metadata": {
        "id": "DpsBABmQ9KFT"
      },
      "outputs": [],
      "source": [
        "#@title ログイン {display-mode:\"form\"}\n",
        "メールアドレス=\"habatakutori.fbi@gmail.com\"#@param {type:\"string\"}\n",
        "パスワード=\"ctuisipnNian0972\"#@param {type:\"string\"}\n",
        "sp=IStudyPlus().login(メールアドレス,パスワード)\n",
        "me=sp.me()"
      ]
    },
    {
      "cell_type": "markdown",
      "metadata": {
        "id": "1v4FFwjifv_9"
      },
      "source": [
        "# **自動いいね**"
      ]
    },
    {
      "cell_type": "code",
      "execution_count": null,
      "metadata": {
        "id": "3IvAk_RuY_1i"
      },
      "outputs": [],
      "source": [
        "# @title 自分のタイムラインに指定した個数いいね {display-mode:\"form\"}\n",
        "種類=\"\\u30D5\\u30A9\\u30ED\\u30FC\\u4E2D\"#@param [\"フォロー中\",\"定期テスト 成績アップ\"]\n",
        "if 種類==\"フォロー中\":\n",
        "  timeline_url=\"followee\"\n",
        "elif 種類==\"定期テスト 成績アップ\":\n",
        "  timeline_url=\"study_goal/test\"\n",
        "json=requests.get(\"https://api.studyplus.jp/2/timeline_feeds/\"+timeline_url,cookies=sp.cookies,headers=sp.headers).json()\n",
        "個数_30個単位=30#@param {type:\"number\"}\n",
        "\n",
        "for i in range(0,個数_30個単位//30):\n",
        "  for record in json[\"feeds\"]:\n",
        "    try:\n",
        "      record.pop(\"feed_type\")\n",
        "      requests.post(\"https://api.studyplus.jp/2/timeline_events/\"+str(list(record.values())[0][\"event_id\"])+\"/likes/like\",cookies=sp.cookies,headers=sp.headers).json()\n",
        "    except:\n",
        "      continue\n",
        "  json=requests.get(\"https://api.studyplus.jp/2/timeline_feeds/\"+timeline_url+\"?until=\"+json[\"next\"],cookies=sp.cookies,headers=sp.headers).json()"
      ]
    },
    {
      "cell_type": "code",
      "execution_count": null,
      "metadata": {
        "id": "GXPouR6y1-nr"
      },
      "outputs": [],
      "source": [
        "# @title 自分のタイムラインに指定した個数いいね {display-mode:\"form\"}\n",
        "種類=\"\\u5B9A\\u671F\\u30C6\\u30B9\\u30C8 \\u6210\\u7E3E\\u30A2\\u30C3\\u30D7\"#@param [\"フォロー中\",\"定期テスト 成績アップ\"]\n",
        "if 種類==\"定期テスト 成績アップ\":\n",
        "  timeline_url=\"study_goal/test\"\n",
        "elif 種類==\"フォロー中\":\n",
        "  timeline_url=\"followee\"\n",
          "elif 種類==\"英検準1級\":\n",
        "  timeline_url=\"study_goal/english-eiken-jun1\"\n",
          "elif 種類==\"英検2級\":\n",
        "  timeline_url=\"study_goal/english-eiken-2\"\n",
          "elif 種類==\"その他趣味・教養\":\n",
        "  timeline_url=\"study_goal/hobby-etc\"\n",
          "elif 種類==\"その他\":\n",
        "  timeline_url=\"study_goal/skill-etc\"\n",
        "elif 種類==\"北海道大学\":\n",
        "  timeline_url=\"study_goal/college-5\"\n",
        "elif 種類==\"筑波大学\":\n",
        "  timeline_url=\"study_goal/college-86\"\n",
        "elif 種類==\"千葉大学\":\n",
        "  timeline_url=\"study_goal/college-147\"\n",
        "elif 種類==\"名古屋大学\":\n",
        "  timeline_url=\"study_goal/college-428\"\n",
        "elif 種類==\"大阪大学\":\n",
        "  timeline_url=\"study_goal/college-524\"\n",
        "elif 種類==\"神戸大学\":\n",
        "  timeline_url=\"study_goal/college-578\"\n",
        "elif 種類==\"広島大学\":\n",
        "  timeline_url=\"study_goal/college-653\"\n",
        "elif 種類==\"九州大学\":\n",
        "  timeline_url=\"study_goal/college-699\"\n",
        "elif 種類==\"東京大学\":\n",
        "  timeline_url=\"study_goal/college-180\"\n",
        "elif 種類==\"京都大学\":\n",
        "  timeline_url=\"study_goal/college-491\"\n",
        "elif 種類==\"慶應義塾大学\":\n",
        "  timeline_url=\"study_goal/college-207\"\n",
        "elif 種類==\"早稲田大学\":\n",
        "  timeline_url=\"study_goal/college-304\"\n",
        "json=requests.get(\"https://api.studyplus.jp/2/timeline_feeds/\"+timeline_url,cookies=sp.cookies,headers=sp.headers).json()\n",
        "個数_30個単位=240#@param {type:\"number\"}\n",
        "\n",
        "for i in range(0,個数_30個単位//30):\n",
        "  for record in json[\"feeds\"]:\n",
        "    try:\n",
        "      record.pop(\"feed_type\")\n",
        "      requests.post(\"https://api.studyplus.jp/2/timeline_events/\"+str(list(record.values())[0][\"event_id\"])+\"/likes/like\",cookies=sp.cookies,headers=sp.headers).json()\n",
        "    except:\n",
        "      continue\n",
        "  json=requests.get(\"https://api.studyplus.jp/2/timeline_feeds/\"+timeline_url+\"?until=\"+json[\"next\"],cookies=sp.cookies,headers=sp.headers).json()"
      ]
    },
    {
      "cell_type": "code",
      "execution_count": null,
      "metadata": {
        "id": "L1-KCYtlmGqs"
      },
      "outputs": [],
      "source": [
        "#@title 達成目標idから指定した個数いいね {display-mode:\"form\"}\n",
        "達成目標id=\"college-225\"# @param {type:\"string\"}\n",
        "json=requests.get(\"https://api.studyplus.jp/2/timeline_feeds/study_goal/\"+達成目標id,cookies=sp.cookies,headers=sp.headers).json()\n",
        "個数_30個単位=300#@param {type:\"number\"}\n",
        "\n",
        "for i in range(0,個数_30個単位//30):\n",
        "  for record in json[\"feeds\"]:\n",
        "    try:\n",
        "      record.pop(\"feed_type\")\n",
        "      requests.post(\"https://api.studyplus.jp/2/timeline_events/\"+str(list(record.values())[0][\"event_id\"])+\"/likes/like\",cookies=sp.cookies,headers=sp.headers).json()\n",
        "    except:\n",
        "      continue\n",
        "  json=requests.get(\"https://api.studyplus.jp/2/timeline_feeds/study_goal/\"+達成目標id+\"?until=\"+json[\"next\"],cookies=sp.cookies,headers=sp.headers).json()"
      ]
    },
    {
      "cell_type": "code",
      "execution_count": 1,
      "metadata": {
        "colab": {
          "base_uri": "https://localhost:8080/"
        },
        "id": "L-jjFMAQfO6U",
        "outputId": "f7019128-aa69-4c42-fdfa-557edf0ce9d3"
      },
      "outputs": [
        {
          "output_type": "error",
          "ename": "NameError",
          "evalue": "ignored",
          "traceback": [
            "\u001b[0;31m---------------------------------------------------------------------------\u001b[0m",
            "\u001b[0;31mNameError\u001b[0m                                 Traceback (most recent call last)",
            "\u001b[0;32m<ipython-input-1-998cc4d898ac>\u001b[0m in \u001b[0;36m<cell line: 3>\u001b[0;34m()\u001b[0m\n\u001b[1;32m      1\u001b[0m \u001b[0;31m#@title 自分の達成目標id一覧取得 {display-mode:\"form\"}\u001b[0m\u001b[0;34m\u001b[0m\u001b[0;34m\u001b[0m\u001b[0m\n\u001b[1;32m      2\u001b[0m \u001b[0mmd\u001b[0m\u001b[0;34m=\u001b[0m\u001b[0;34m\"|達成目標|id|\\n|--|--|\\n\"\u001b[0m\u001b[0;34m\u001b[0m\u001b[0;34m\u001b[0m\u001b[0m\n\u001b[0;32m----> 3\u001b[0;31m \u001b[0;32mfor\u001b[0m \u001b[0mval\u001b[0m \u001b[0;32min\u001b[0m \u001b[0mme\u001b[0m\u001b[0;34m.\u001b[0m\u001b[0mdata\u001b[0m\u001b[0;34m[\u001b[0m\u001b[0;34m'study_goals'\u001b[0m\u001b[0;34m]\u001b[0m\u001b[0;34m:\u001b[0m\u001b[0;34m\u001b[0m\u001b[0;34m\u001b[0m\u001b[0m\n\u001b[0m\u001b[1;32m      4\u001b[0m   \u001b[0mmd\u001b[0m\u001b[0;34m+=\u001b[0m\u001b[0;34mf\"|{val['label']}|{val['key']}|\\n\"\u001b[0m\u001b[0;34m\u001b[0m\u001b[0;34m\u001b[0m\u001b[0m\n\u001b[1;32m      5\u001b[0m \u001b[0mdisplay\u001b[0m\u001b[0;34m(\u001b[0m\u001b[0mMarkdown\u001b[0m\u001b[0;34m(\u001b[0m\u001b[0mmd\u001b[0m\u001b[0;34m)\u001b[0m\u001b[0;34m)\u001b[0m\u001b[0;34m\u001b[0m\u001b[0;34m\u001b[0m\u001b[0m\n",
            "\u001b[0;31mNameError\u001b[0m: name 'me' is not defined"
          ]
        }
      ],
      "source": [
        "#@title 自分の達成目標id一覧取得 {display-mode:\"form\"}\n",
        "md=\"|達成目標|id|\\n|--|--|\\n\"\n",
        "for val in me.data['study_goals']:\n",
        "  md+=f\"|{val['label']}|{val['key']}|\\n\"\n",
        "display(Markdown(md))"
      ]
    },
    {
      "cell_type": "code",
      "execution_count": null,
      "metadata": {
        "cellView": "form",
        "id": "MiAPiau6bPNa"
      },
      "outputs": [],
      "source": [
        "# @title 人を検索して全いいね\n",
        "検索元=\"id\\u6307\\u5B9A\"#@param [\"フォロワー\",\"フォロー中\",\"id指定\"]\n",
        "名前またはid=\"b358c0cf40824c4ea677ac1cf5789986\"#@param {type:\"string\"}\n",
        "\n",
        "if 検索元==\"フォロワー\":\n",
        "  user=next(filter(lambda x:x[\"nickname\"]==名前またはid or x[\"username\"]==名前またはid,me.follower()),None)\n",
        "  json=requests.get(\"https://api.studyplus.jp/2/timeline_feeds/user/\"+user[\"username\"],cookies=sp.cookies,headers=sp.headers).json()\n",
        "elif 検索元==\"フォロー中\":\n",
        "  user=next(filter(lambda x:x[\"nickname\"]==名前またはid or x[\"username\"]==名前またはid,me.followee()),None)\n",
        "  json=requests.get(\"https://api.studyplus.jp/2/timeline_feeds/user/\"+user[\"username\"],cookies=sp.cookies,headers=sp.headers).json()\n",
        "else:\n",
        "  json=requests.get(\"https://api.studyplus.jp/2/timeline_feeds/user/\"+名前またはid,cookies=sp.cookies,headers=sp.headers).json()\n",
        "\n",
        "for i in range(0,2000):\n",
        "  count=0\n",
        "  for record in json[\"feeds\"]:\n",
        "    try:\n",
        "      record.pop(\"feed_type\")\n",
        "      body=list(record.values())[0]\n",
        "      if body[\"if_you_like\"]:\n",
        "        count+=1\n",
        "        continue\n",
        "      requests.post(\"https://api.studyplus.jp/2/timeline_events/\"+str(body[\"event_id\"])+\"/likes/like\",cookies=sp.cookies,headers=sp.headers).json()\n",
        "    except:\n",
        "      continue\n",
        "  if count==len(json[\"feeds\"]) and i>100:\n",
        "    break\n",
        "  json=requests.get(\"https://api.studyplus.jp/2/timeline_feeds/user/\"+user[\"username\"]+\"?until=\"+json[\"next\"],cookies=sp.cookies,headers=sp.headers).json()"
      ]
    },
    {
      "cell_type": "markdown",
      "metadata": {
        "id": "Eo1wdv6RgGU9"
      },
      "source": [
        "# **ユーザー情報**"
      ]
    },
    {
      "cell_type": "code",
      "execution_count": null,
      "metadata": {
        "colab": {
          "base_uri": "https://localhost:8080/",
          "height": 1000
        },
        "id": "7b-vgMLCDKkB",
        "outputId": "be8f3915-7898-4271-b7a3-40df2b87ab1e"
      },
      "outputs": [
        {
          "data": {
            "text/markdown": "|名前|id|\n|--|--|\n|じょ|eedc8f0a638f4cd2ab2bf6871ec84ba4|\n|みーちゃん #雰囲気チェンジ？🤔|8dd5866988414ab29d60ecc3c8b100b5|\n|なめくじ|37252caf61bc4c1282dc210fa394f27f|\n|N|5ee35a66d7a744c6abeccdcfbaf24854|\n|そたろ|937ad002d842496e91965cfb331bc387|\n|夏の模試で九大B未満なら顔出す(絶対に嫌)|536547581a00492fa1238d989a89f644|\n|ぬぇ💫|d8ea71ba3ac949d4ab082597a89404f0|\n|たいやき|2a3e246484664a78a13bb7b8710dca59|\n|まりんぬ|76a61a3d0bc44ea2a0300db05d47ba75|\n|お奉行|72619865e6c74eb8b0cf4e032687e096|\n|ちゅう|7a7755ca319b11e8b531064ca174cbd6|\n|紫うさぎ|ab115b7b3ab64da9a0d248c1221c4546|\n|♡코코나 ♡🐰🫧|48241de5feb04fc98352c03f374ccdc7|\n|真央|65200e6ec6ac4c039ac718ee48d91ced|\n|𝐰𝐚𝐤𝐚𝐧𝐚|42854e2481ae459982c97155817ee5b8|\n|みゅいあす|f7686b48f381403ca8b9e649f0753187|\n|👍🏻 ̖́-‬|bdf34117aac248fe8a573aca3f2ba9ab|\n|い|de232e6ee465435c99aca786f7ffa3c8|\n|澪|f2c9ed735b804c2f80f831dc74c41923|\n|𝐑𝐢𝐧𝐧𝐨|1804224bd6c2443db35ad9942393babf|\n|シャーク🦈|ca40b60e13994904bb664e436e4fc6e5|\n|がき|771aba8be95e47159afe01f9c0496d50|\n|しーばすお|da1c4d2df3a8455d8a18c8b46e579ea8|\n|まきまきまっきー|bacd9a22163f4e02aae3a34948d447a2|\n|くりおね🪼🩷|14744862661e4d979a0519308681d6a8|\n|𝕐𝕦𝕜𝕚.∘ ❦ ໒꒱⋆⸜|157cc7d24a324c25a3a155431745b1a1|\n|るるち🍊🌙|92d5d270573d46c8a9c84e127e01fc39|\n|こいきっと|90c54d6b8cf648b6b98372fdf32f9839|\n|雨夢|ad49c71a9507468b9d1c11491cf0e932|\n|サメにゃん|a4b907806d954e7a8a708a4e2c935450|\n|ひろの|511676e7308f4034975795771864643d|\n|まとう🎤🍳|8f9d63c9c728465d9de8d272360e5dd2|\n|みぃ❄️🌙中間6/6〜|0ad74e6a4117426e8b72f1da834c371e|\n|きゅーこーみよし|2ca6749353e7485a93e9a98ae66b8d0c|\n|かと。𓏸 𓈒 𓏸𓐍 🍵|58c21c72c8b74be4aac9b9cf0ff32fb6|\n|たか|9d6f7190b15c4ed18beb4c557f309177|\n|あいうえお|f05c89dbaaaa4840a4a35500c9804040|\n|れいね|584f1b95ab8249f5a2e46c4e74f1773a|\n|あづま ❃テスト期間中❃|6ded008c227944e0b23c402b4a01275f|\n|佐久間(BRACKJACK)とうまとペア画中‼︎|8ee75b587fc1414d9797881b83f3db13|\n|rk|34806f4b222e4c9c96d16596abc7c91a|\n|怠惰な人間|326d6ab6f72e4663b49ab3db2036ab79|\n|にぼし|66e939c45220433abd7b9b5ec477564f|\n|ハズ|92de439b0c78436d884e6f8692203e0c|\n|ぺんぎん|b358c0cf40824c4ea677ac1cf5789986|\n|いつやるの　今でしょ|bca9ad31e5b5404d8f301be1a3987ff7|\n|𝕄𝕚𝕫𝕦𝕜𝕚 #ていふ🫰🏻|2743991c3ddd487ba8a6db153b959a1a|\n|ぼむ|dab44dc998884877af8250c70fc51380|\n|ふめい|bd67cb635f014bddbf8f0298f90d2747|\n|わさび|1d3e48ca85ae42f3ab42a9c175ee1372|\n|‪‪❤︎‬|961088f4414c4bcc90802b301df8665e|\n|あさやん|624b71f2f6764edaa5d7989401e07b78|\n|し🍩|d1ec9178a55f4854b7fdb0bd617f1cbc|\n|うさぎ|4658947aa8404e15a6a78be66d3d9651|\n|内職王に俺はなる‼︎|4b9fe71e73474b74be45dbea045fd04d|\n|Mucha|227cc5c9657e43e0b7d049058e1b846b|\n|ao|892fcf71aae64e61b5477bcaa5cbc5d1|\n|ぽむぽむ|c7bc44efa303436c91ef2a105977e0a1|\n|カズ＠アルタイル　|a267a6a3af7d41539aa07e61c3bb579d|\n|りん|61e7c1473c414e4a985bae23e4b8f826|\n|みかん|26638132b66b42c79d095f40f56b91b2|\n|まんｼﾞｭｳこわい|53cc0f3b6a2644c091ff3c90fe4691db|\n|すけ|0993ac0b87d7438ab2d78193d5aa1abf|\n|∫もっちー𝒹𝓉|affc4a31782f4d4cafacb9a0ee0b6aac|\n|ほのか|2eaf295a41ff47b680ecb831760f3e3c|\n|たぴおか|c0d4eee2dd3d47a99d8aece987b4ecfc|\n|づづづ|b9d54d763687439b919cf4f9ccbd8003|\n|カツタラ|daa0e16028704bf79252cb3fe253ccc9|\n|ﾅﾅﾐ|af40fc060bab405db3ffae914c77219b|\n|Asu|94d26fc568bc47c48a5fb2fd998205f0|\n|みゆ|fcccbee16ae1420f9b3ea626e626cd74|\n|七瀬‪𓂃 𓈒𓏸໒꒱グル画|2425ea0c8acc4a4787042757c7d99d6d|\n|yuuya|cbd038d5184a4cb88082186a95e0ca41|\n|🐣 𝙿𝙸𝚈𝙾 🍳|3973b90c924a42eaa06d25953daf45e0|\n|明菜|883cbd4653e6437286b4f9f1f9212935|\n|セキエイ|7872b557dd58470bb09ba32160017563|\n|くろみつ|ebdea8f11a7b4a93b4b5683aafce7191|\n|あー|c4e57e9e8b474a9bbfc92ee30905dd94|\n|shallow|15e6adc6a3d541028a2c4f69e46a1c51|\n|ゆっきー|8e1942df25e24671bc5a3a552e08e9ef|\n|たけみち|fa9c87616d404168ae8d294613d298bf|\n|わさび|468f464708f34978b7fe37a1ead64ddc|\n|なぁ|4d3b533b285442898a47a84027dd9227|\n|松ちゃん|a930b4d77fd440588c67d88df7fa5f60|\n|ピクリン酸|686e41d1987d46fab4106a93f3dde4a2|\n|ゆせい|b4b8bc509169423b875e98b5aa1f1c10|\n|あいり|84b95892ee8743f8a769f876204ca4e2|\n|もも様最高|cb10d8bc05884673951ad79d3a066bbd|\n|ましゅ|5b3ba5a6fbf4499dabeea2c1b505eceb|\n|無個性|8d284698e3dc434498cb2caebe3c6592|\n|チロル|ba8c214db1e24722843ca0a3d7d457ca|\n|Inferior|c43d6ba6dad747e0aeb15f5f748041d6|\n|𝙎𝙖𝙠𝙪|a8cc63a1d6d14082933bb7b01d5065d4|\n|🫧𝙮𝙪𝙞𝙠𝙖🫧|5af7171e70f045dcad3923309202348b|\n|くるみリス|8a52010e411c457ea73549802e5fc974|\n|ねおん|d6195448f8134c7f927972f594aaf38f|\n|けいた|a6df52f69c7d4627b334d33cb702ad23|\n|⋆̩jam︎︎☁︎︎*.|dc574957ae0f4f53a01cafb64b0cbdd8|\n|𝑪𝒉𝒆𝒓𝒓𝒚|ba2a47d7847c46bcae42dce1d5c1d5ca|\n|りょう@受験生|fc16e859ff71441e8fe08b55183bad0e|\n|ジニア|815af1b3f37e4415bb0ca02dfc49ecc1|\n|なのはな♪̊̈ ͙❁˚|e85c020bf86540f6a216bf4f358fe487|\n|芹奈|9498996bdc2b4ffd9a45be18b733c78e|\n|Nao♪|366086bbc11e49299be3035688e35d51|\n|Mikiy|d600fe01af074794b0628adffe7d118a|\n|きの|6ffde5791b164e0ebc188531c89b9a2b|\n|iβu|23e48802753240afb1a55e7e8c0d5169|\n|さんちゅう|b98be7f0ff604c998ac8f85d1be76c42|\n|セーフリームニル|e7e75e1ac43f48ce8c1da965599be733|\n|名無し＠studyplus非公式キャラクター|b9513ac08c98423088fc7b005c31a5e5|\n|らぐ|11f804a720874e80a1b36e92e1f293c4|\n|ななしさん|2c969cbcd5024341a602598d993383ea|\n|ジョーイ|75ea555106674cc2a66d7a1365a5a416|\n|𝙺|f9383d50c34249de982bca62915c6db9|\n|キルア　凛🥀とペア画中🫥|2fd9530a35864852a8ca1a1b9434c6b1|\n|G2|4c4e7f88171147ffa3b67cbd3ba935a7|\n|りょうと|8bb1394639704e3dabb2fda782180075|\n|ｻｿｻｿ|dbd3f319a97e4a368157462eec75aa09|\n|kkk kkk|c1726a0e32bc439dbeedac66c75fafcc|\n|ガラガラ|df9200489b1348709a01bd5ee8956813|\n|とく|5bb03db7bd9a452b9ef9b070eb73ac60|\n|ぷりん　@超低浮許してね|d45e9783acc641f8835b0aa0894d303f|\n|yooooo|01418449b7924f51b1579c892908c668|\n|しう|1fc3d2b220ce405cacb8d0db678f3aa1|\n|ふじりょう|d122cc233217436999426ec20deb3cd2|\n|FOREST|c80e5b13d6bc49d8b79f26ef8af8be58|\n|こだまだこ|d3caee6adc584883965c16af7ebae4ed|\n|誠|b295135a0e04469b9ef20398ef4cce6f|\n",
            "text/plain": [
              "<IPython.core.display.Markdown object>"
            ]
          },
          "metadata": {},
          "output_type": "display_data"
        }
      ],
      "source": [
        "#@title 自分のフォロワー/フォロー中一覧 {display-mode:\"form\"}\n",
        "モード=\"\\u30D5\\u30A9\\u30ED\\u30FC\\u4E2D\"#@param [\"フォロワー\",\"フォロー中\"]\n",
        "if モード==\"フォロワー\":\n",
        "  userlist=me.follower()\n",
        "elif モード==\"フォロー中\":\n",
        "  userlist=me.followee()\n",
        "\n",
        "md=\"|名前|id|\\n|--|--|\\n\"\n",
        "for val in userlist:\n",
        "  md+=f\"|{val['nickname']}|{val['username']}|\\n\"\n",
        "display(Markdown(md))"
      ]
    },
    {
      "cell_type": "code",
      "execution_count": null,
      "metadata": {
        "id": "4Rqs-EX8_ByX"
      },
      "outputs": [],
      "source": [
        "#@title 知り合いの知り合い一覧 {display-mode:\"form\"}\n",
        "取得する人=\"\\u30D5\\u30A9\\u30ED\\u30EF\\u30FC\"#@param [\"フォロワー\",\"フォロー中\"]\n",
        "ユーザー名=\"1234567890\"#@param {type:\"string\"}\n",
        "モード=\"\\u30D5\\u30A9\\u30ED\\u30FC\\u4E2D\"#@param [\"フォロワー\",\"フォロー中\"]\n",
        "\n",
        "if 取得する人==\"フォロワー\":\n",
        "  user=next(filter(lambda x:x[\"nickname\"]==ユーザー名,me.follower()),None)\n",
        "elif 取得する人==\"フォロー中\":\n",
        "  user=next(filter(lambda x:x[\"nickname\"]==ユーザー名,me.followee()),None)\n",
        "print(f'{取得する人}の{ユーザー名} さんの{モード}一覧:')\n",
        "if モード==\"フォロワー\":\n",
        "  userlist=IStudyPlusUser(user).follower()\n",
        "elif モード==\"フォロー中\":\n",
        "  userlist=IStudyPlusUser(user).followee()\n",
        "\n",
        "md=\"|名前|id|\\n|--|--|\\n\"\n",
        "for val in userlist:\n",
        "  md+=f\"|{val['nickname']}|{val['username']}|\\n\"\n",
        "display(Markdown(md))"
      ]
    },
    {
      "cell_type": "code",
      "execution_count": null,
      "metadata": {
        "id": "Y64cCatqDY5Q"
      },
      "outputs": [],
      "source": [
        "#@title ユーザーidから情報を取得 {display-mode:\"form\"}\n",
        "username=\"97a7afe10247462a99d6e858ede46674\"#@param {type:\"string\"}\n",
        "user=IStudyPlusUser(requests.get(\"https://api.studyplus.jp/2/users/\"+username).json())\n",
        "print(user.data[\"nickname\"]+\"さんの情報:\")\n",
        "pprint.pprint(user.data)"
      ]
    },
    {
      "cell_type": "code",
      "execution_count": null,
      "metadata": {
        "cellView": "form",
        "id": "_u0pcI7cCaIn"
      },
      "outputs": [],
      "source": [
        "# @title 没\n",
        "# import requests\n",
        "# from dataclasses import dataclass,fields\n",
        "# from typing import Optional\n",
        "\n",
        "# @dataclass\n",
        "# class IStudyPlusUserProfile:\n",
        "#   user_id: int\n",
        "#   username: str\n",
        "#   user_image_url: str\n",
        "#   nickname: str\n",
        "#   badge_type: str\n",
        "#   user_organizations: list\n",
        "#   disable_reply: bool\n",
        "#   allow_send_image_message: bool\n",
        "#   disable_profile_view: bool\n",
        "#   goal: str\n",
        "#   user_relationship_id: int\n",
        "#   user_relationship_status: str\n",
        "#   target_user_relationship_id: int\n",
        "#   target_user_relationship_status: str\n",
        "#   location_code: int\n",
        "#   location: str\n",
        "#   job_code: int\n",
        "#   job: str\n",
        "#   job_grade: int\n",
        "#   follower_policy: str\n",
        "#   feed_visibility: str\n",
        "#   desired_departments: list\n",
        "#   mute: bool\n",
        "#   fav: bool\n",
        "#   feed_is_visible: bool\n",
        "#   study_goals: list\n",
        "\n",
        "#   def followee(self):\n",
        "#     json=requests.get(\"https://api.studyplus.jp/2/users?followee=\"+self.username+\"&page=1&per_page=100&include_recent_record_seconds=t\").json()\n",
        "#     followees=json[\"users\"]\n",
        "#     if json[\"page\"]<json[\"total_page\"]:\n",
        "#       for i in range(2,json[\"total_page\"]+1):\n",
        "#         followees |= requests.get(self.api_root+\"/users?followee=\"+self.username+\"&page=\"+i+\"&per_page=100&include_recent_record_seconds=t\").json()\n",
        "#     followeeprofiles=[]\n",
        "#     print(followees)\n",
        "#     for follower in followees:\n",
        "#       for field in fields(IStudyPlusRelateUser):\n",
        "#         if field.name not in follower:\n",
        "#           follower[field.name]=\"\"\n",
        "#       followeeprofiles.append(IStudyPlusRelateUser(**follower))\n",
        "#     return followeeprofiles\n",
        "\n",
        "# @dataclass\n",
        "# class IStudyPlusUser(IStudyPlusUserProfile):\n",
        "#   follow_count: int\n",
        "#   follower_count: int\n",
        "#   follow_requesting_count: int\n",
        "#   biography: str\n",
        "#   tags: list\n",
        "#   educational_background: dict\n",
        "#   material_count: int\n",
        "#   premium: bool\n",
        "#   book_user: bool\n",
        "#   use_drill: bool\n",
        "#   studyplus_confirmed: bool\n",
        "#   studylog_confirmed: bool\n",
        "#   record_count: int\n",
        "#   record_hours_this_month: int\n",
        "#   record_hours_last_month: int\n",
        "#   total_record_hours: int\n",
        "#   has_study_challenge: bool\n",
        "#   sex: str\n",
        "#   birthyear: int\n",
        "#   birthmonth: int\n",
        "#   birthdate: int\n",
        "#   occupation: str\n",
        "#   study_achievements: list\n",
        "#   examination_count: int\n",
        "#   email_is_confirmed: bool\n",
        "#   learning_material_review_count: int\n",
        "#   learning_material_review_like_count: int\n",
        "#   desired_department_visibility: str\n",
        "#   sex_visibility: str\n",
        "#   birthyear_visibility: str\n",
        "#   birthdate_visibility: str\n",
        "#   location_visibility: str\n",
        "#   job_visibility: str\n",
        "#   occupation_visibility: str\n",
        "#   study_goals_visibility: str\n",
        "#   limited_message: bool\n",
        "\n",
        "# @dataclass\n",
        "# class IStudyPlusRelateUser(IStudyPlusUserProfile):\n",
        "#   recent_record_seconds:int"
      ]
    }
  ],
  "metadata": {
    "colab": {
      "provenance": [],
      "include_colab_link": true
    },
    "kernelspec": {
      "display_name": "Python 3",
      "name": "python3"
    },
    "language_info": {
      "name": "python"
    }
  },
  "nbformat": 4,
  "nbformat_minor": 0
}
